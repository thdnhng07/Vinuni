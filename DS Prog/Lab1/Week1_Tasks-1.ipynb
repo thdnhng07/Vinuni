{
  "cells": [
    {
      "cell_type": "markdown",
      "metadata": {},
      "source": [
        "# Week 1 Tasks - Data Science Programming\n",
        "\n",
        "**Student Name:** [Your Name Here]\n",
        "**Date:** [Date]\n",
        "\n",
        "This notebook contains solutions to all Week 1 tasks using the `student_scores.csv` dataset.\n"
      ]
    },
    {
      "cell_type": "markdown",
      "metadata": {},
      "source": [
        "## Task 1 – Hello World\n",
        "\n",
        "Write a program that prints: \"Welcome to Data Science Programming!\"\n"
      ]
    },
    {
      "cell_type": "code",
      "execution_count": 2,
      "metadata": {},
      "outputs": [
        {
          "name": "stdout",
          "output_type": "stream",
          "text": [
            "Welcome to Data Science Programming!\n"
          ]
        }
      ],
      "source": [
        "# Task 1: Hello World\n",
        "# Write your code here\n",
        "print('Welcome to Data Science Programming!')"
      ]
    },
    {
      "cell_type": "markdown",
      "metadata": {},
      "source": [
        "## Task 2 – Simple Math\n",
        "\n",
        "Calculate and print the result of:\n",
        "- 15 + 23\n",
        "- 120 / 6  \n",
        "- 5³ (5 to the power of 3)\n"
      ]
    },
    {
      "cell_type": "code",
      "execution_count": 3,
      "metadata": {},
      "outputs": [
        {
          "name": "stdout",
          "output_type": "stream",
          "text": [
            "38\n",
            "20.0\n",
            "125\n"
          ]
        }
      ],
      "source": [
        "# Task 2: Simple Math\n",
        "# Write your code here\n",
        "print(15 + 23)\n",
        "print(120 / 6)\n",
        "print(5 ** 3)"
      ]
    },
    {
      "cell_type": "markdown",
      "metadata": {},
      "source": [
        "## Task 3 – Variables and Lists\n",
        "\n",
        "Create a list of 5 numbers: `[10, 20, 30, 40, 50]`.\n",
        "\n",
        "Print the list and the sum of its elements.\n"
      ]
    },
    {
      "cell_type": "code",
      "execution_count": 4,
      "metadata": {},
      "outputs": [
        {
          "name": "stdout",
          "output_type": "stream",
          "text": [
            "[10, 20, 30, 40, 50]\n",
            "150\n"
          ]
        }
      ],
      "source": [
        "# Task 3: Variables and Lists\n",
        "# Write your code here\n",
        "list = [10, 20, 30, 40, 50]\n",
        "print(list)\n",
        "print(sum(list))"
      ]
    },
    {
      "cell_type": "markdown",
      "metadata": {},
      "source": [
        "## Task 4 – Plot Squares\n",
        "\n",
        "Create a list of numbers from 1 to 10.\n",
        "\n",
        "Plot the numbers against their squares using matplotlib.\n"
      ]
    },
    {
      "cell_type": "code",
      "execution_count": 5,
      "metadata": {},
      "outputs": [
        {
          "data": {
            "image/png": "[encoded data removed]",
            "text/plain": [
              "<Figure size 640x480 with 1 Axes>"
            ]
          },
          "metadata": {},
          "output_type": "display_data"
        }
      ],
      "source": [
        "# Task 4: Plot Squares\n",
        "# Import required libraries\n",
        "import matplotlib.pyplot as plt\n",
        "\n",
        "# Write your code here\n",
        "numbers = [1,2,3,4,5,6,7,8,9,10]\n",
        "squares = [x**2 for x in numbers]\n",
        "\n",
        "plt.plot(numbers, squares, marker='o')\n",
        "plt.title('Numbers vs Their Squares')\n",
        "plt.xlabel('Number')\n",
        "plt.ylabel('Square')\n",
        "plt.show()"
      ]
    },
    {
      "cell_type": "markdown",
      "metadata": {},
      "source": [
        "## Task 5 – Load Dataset\n",
        "\n",
        "Load `student_scores.csv` into your program.\n",
        "\n",
        "Display the first 5 rows.\n"
      ]
    },
    {
      "cell_type": "code",
      "execution_count": 6,
      "metadata": {},
      "outputs": [
        {
          "data": {
            "text/html": [
              "<div>\n",
              "<style scoped>\n",
              "    .dataframe tbody tr th:only-of-type {\n",
              "        vertical-align: middle;\n",
              "    }\n",
              "\n",
              "    .dataframe tbody tr th {\n",
              "        vertical-align: top;\n",
              "    }\n",
              "\n",
              "    .dataframe thead th {\n",
              "        text-align: right;\n",
              "    }\n",
              "</style>\n",
              "<table border=\"1\" class=\"dataframe\">\n",
              "  <thead>\n",
              "    <tr style=\"text-align: right;\">\n",
              "      <th></th>\n",
              "      <th>Name</th>\n",
              "      <th>Score</th>\n",
              "    </tr>\n",
              "  </thead>\n",
              "  <tbody>\n",
              "    <tr>\n",
              "      <th>0</th>\n",
              "      <td>Alice</td>\n",
              "      <td>85</td>\n",
              "    </tr>\n",
              "    <tr>\n",
              "      <th>1</th>\n",
              "      <td>Bob</td>\n",
              "      <td>72</td>\n",
              "    </tr>\n",
              "    <tr>\n",
              "      <th>2</th>\n",
              "      <td>Charlie</td>\n",
              "      <td>90</td>\n",
              "    </tr>\n",
              "    <tr>\n",
              "      <th>3</th>\n",
              "      <td>David</td>\n",
              "      <td>65</td>\n",
              "    </tr>\n",
              "    <tr>\n",
              "      <th>4</th>\n",
              "      <td>Emma</td>\n",
              "      <td>78</td>\n",
              "    </tr>\n",
              "  </tbody>\n",
              "</table>\n",
              "</div>"
            ],
            "text/plain": [
              "      Name  Score\n",
              "0    Alice     85\n",
              "1      Bob     72\n",
              "2  Charlie     90\n",
              "3    David     65\n",
              "4     Emma     78"
            ]
          },
          "execution_count": 6,
          "metadata": {},
          "output_type": "execute_result"
        }
      ],
      "source": [
        "# Task 5: Load Dataset\n",
        "# Import required libraries\n",
        "import pandas as pd\n",
        "\n",
        "# Write your code here\n",
        "df = pd.read_csv(\"/Users/datthanhnguyen/Documents/GitHub/Vinuni/DS Prog/Lab1/student_scores.csv\")\n",
        "df.head()"
      ]
    },
    {
      "cell_type": "markdown",
      "metadata": {},
      "source": [
        "## Task 6 – Summary Statistics\n",
        "\n",
        "Print the average (mean) of the `Score` column.\n",
        "\n",
        "Print the minimum and maximum scores.\n"
      ]
    },
    {
      "cell_type": "code",
      "execution_count": 7,
      "metadata": {},
      "outputs": [
        {
          "name": "stdout",
          "output_type": "stream",
          "text": [
            "78.0\n",
            "92 55\n"
          ]
        }
      ],
      "source": [
        "# Task 6: Summary Statistics\n",
        "# Write your code here\n",
        "print(df['Score'].mean())\n",
        "print(df['Score'].max(), df['Score'].min())"
      ]
    },
    {
      "cell_type": "markdown",
      "metadata": {},
      "source": [
        "## Task 7 – Filtering Data\n",
        "\n",
        "Find and print the names of students who scored greater than 80.\n"
      ]
    },
    {
      "cell_type": "code",
      "execution_count": 8,
      "metadata": {},
      "outputs": [
        {
          "name": "stdout",
          "output_type": "stream",
          "text": [
            "0      Alice\n",
            "2    Charlie\n",
            "6      Grace\n",
            "7     Hannah\n",
            "9      Julia\n",
            "Name: Name, dtype: object\n"
          ]
        }
      ],
      "source": [
        "# Task 7: Filtering Data\n",
        "# Write your code here\n",
        "\n",
        "mask = df['Score'] > 80\n",
        "print(df.loc[mask, 'Name'])\n",
        "\n"
      ]
    },
    {
      "cell_type": "markdown",
      "metadata": {},
      "source": [
        "## Task 8 – Sorting Data\n",
        "\n",
        "Sort the dataset by `Score` in descending order.\n",
        "\n",
        "Display the top 3 students.\n"
      ]
    },
    {
      "cell_type": "code",
      "execution_count": 14,
      "metadata": {},
      "outputs": [
        {
          "name": "stdout",
          "output_type": "stream",
          "text": [
            "      Name  Score\n",
            "6    Grace     92\n",
            "2  Charlie     90\n",
            "9    Julia     88\n"
          ]
        }
      ],
      "source": [
        "# Task 8: Sorting Data\n",
        "# Write your code here\n",
        "\n",
        "top3 = df.sort_values('Score', ascending=False).head(3)\n",
        "print(top3)"
      ]
    },
    {
      "cell_type": "markdown",
      "metadata": {},
      "source": [
        "## Task 9 – Visualization\n",
        "\n",
        "Create a histogram of scores.\n",
        "\n",
        "Add appropriate title and axis labels.\n"
      ]
    },
    {
      "cell_type": "code",
      "execution_count": 10,
      "metadata": {},
      "outputs": [
        {
          "data": {
            "text/plain": [
              "Text(0.5, 1.0, 'Score Distribution')"
            ]
          },
          "execution_count": 10,
          "metadata": {},
          "output_type": "execute_result"
        },
        {
          "data": {
            "image/png": "[encoded data removed]",
            "text/plain": [
              "<Figure size 640x480 with 1 Axes>"
            ]
          },
          "metadata": {},
          "output_type": "display_data"
        }
      ],
      "source": [
        "# Task 9: Visualization\n",
        "# Write your code here\n",
        "plt.hist(df['Score'], bins=10, edgecolor='black')\n",
        "plt.xlabel('Score')\n",
        "plt.ylabel('Frequency')\n",
        "plt.title('Score Distribution')\n"
      ]
    },
    {
      "cell_type": "markdown",
      "metadata": {},
      "source": [
        "---\n",
        "\n",
        "## Submission Notes\n",
        "\n",
        "- Ensure all cells run without errors\n",
        "- Include appropriate comments in your code\n",
        "- Make sure plots are properly displayed\n",
        "- Save and submit this notebook as `Week1_Tasks.ipynb`\n"
      ]
    }
  ],
  "metadata": {
    "kernelspec": {
      "display_name": "Python 3",
      "language": "python",
      "name": "python3"
    },
    "language_info": {
      "codemirror_mode": {
        "name": "ipython",
        "version": 3
      },
      "file_extension": ".py",
      "mimetype": "text/x-python",
      "name": "python",
      "nbconvert_exporter": "python",
      "pygments_lexer": "ipython3",
      "version": "3.12.5"
    }
  },
  "nbformat": 4,
  "nbformat_minor": 2
}
